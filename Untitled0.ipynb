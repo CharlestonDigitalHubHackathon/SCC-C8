{
  "nbformat": 4,
  "nbformat_minor": 0,
  "metadata": {
    "colab": {
      "name": "Untitled0.ipynb",
      "version": "0.3.2",
      "provenance": []
    },
    "kernelspec": {
      "name": "python3",
      "display_name": "Python 3"
    }
  },
  "cells": [
    {
      "metadata": {
        "id": "dZYiYqrR7NRO",
        "colab_type": "code",
        "colab": {}
      },
      "cell_type": "code",
      "source": [
        "import numpy as np\n",
        "from matplotlib import pyplot as plt\n",
        "import pandas as pd\n"
      ],
      "execution_count": 0,
      "outputs": []
    },
    {
      "metadata": {
        "id": "OVOaDbL5TdC-",
        "colab_type": "code",
        "colab": {}
      },
      "cell_type": "code",
      "source": [
        "!pip install -U -q PyDrive\n",
        "from pydrive.auth import GoogleAuth\n",
        "from pydrive.drive import GoogleDrive\n",
        "from google.colab import auth\n",
        "from oauth2client.client import GoogleCredentials\n",
        "# Authenticate and create the PyDrive client.\n",
        "auth.authenticate_user()\n",
        "gauth = GoogleAuth()\n",
        "gauth.credentials = GoogleCredentials.get_application_default()\n",
        "drive = GoogleDrive(gauth)"
      ],
      "execution_count": 0,
      "outputs": []
    },
    {
      "metadata": {
        "id": "m0Nr0fy7Tz3p",
        "colab_type": "code",
        "colab": {
          "base_uri": "https://localhost:8080/",
          "height": 34
        },
        "outputId": "8aa752e4-a2a4-4457-ba09-a846137aa7e3"
      },
      "cell_type": "code",
      "source": [
        "link = 'https://drive.google.com/open?id=1FNIZBRDKPm7QYCyn9FajveRhhtZAcXv4'\n",
        "fluff, id = link.split('=')\n",
        "print (id) # Verify that you have everything after '='"
      ],
      "execution_count": 3,
      "outputs": [
        {
          "output_type": "stream",
          "text": [
            "1FNIZBRDKPm7QYCyn9FajveRhhtZAcXv4\n"
          ],
          "name": "stdout"
        }
      ]
    },
    {
      "metadata": {
        "id": "2c57boV7UNR9",
        "colab_type": "code",
        "colab": {}
      },
      "cell_type": "code",
      "source": [
        "downloaded = drive.CreateFile({'id':id}) \n",
        "downloaded.GetContentFile('epa_hap_daily_summary.csv')  \n",
        "df3 = pd.read_csv('epa_hap_daily_summary.csv')\n"
      ],
      "execution_count": 0,
      "outputs": []
    },
    {
      "metadata": {
        "id": "pvWyh_APdGA5",
        "colab_type": "code",
        "colab": {}
      },
      "cell_type": "code",
      "source": [
        "df4 = df3.drop(['state_code','county_code','site_num','parameter_code','poc', \n",
        "           'datum', 'sample_duration',\n",
        "       'pollutant_standard', 'event_type',\n",
        "       'observation_count', 'observation_percent',\n",
        "       'first_max_value', 'first_max_hour', 'aqi', 'method_code',\n",
        "       'method_name', 'local_site_name', 'address',\n",
        "       'county_name', 'cbsa_name', 'date_of_last_change'], axis = 1)"
      ],
      "execution_count": 0,
      "outputs": []
    },
    {
      "metadata": {
        "id": "h9dJ6JV00vF-",
        "colab_type": "code",
        "colab": {
          "base_uri": "https://localhost:8080/",
          "height": 289
        },
        "outputId": "0a50fd0a-0e23-4b5f-8d1f-6c4954694e84"
      },
      "cell_type": "code",
      "source": [
        "df4['parameter_name'].unique()"
      ],
      "execution_count": 7,
      "outputs": [
        {
          "output_type": "execute_result",
          "data": {
            "text/plain": [
              "array(['Arsenic PM2.5 LC', 'Ethylene dibromide', 'Lead PM2.5 LC',\n",
              "       'Benzene', 'Nickel PM2.5 LC', 'Lead PM10 STP',\n",
              "       'Acrolein - Unverified', 'Chromium (TSP) STP',\n",
              "       'cis-13-Dichloropropene', 'Manganese PM2.5 LC',\n",
              "       'Trichloroethylene', 'Tetrachloroethylene', '13-Butadiene',\n",
              "       'Chromium PM2.5 LC', 'Chloroform', 'Carbon tetrachloride',\n",
              "       'Cadmium PM2.5 LC', '1122-Tetrachloroethane',\n",
              "       'Manganese (TSP) STP', 'trans-13-Dichloropropene',\n",
              "       'Cadmium PM10 STP', 'Vinyl chloride', '12-Dichloropropane',\n",
              "       'Arsenic (TSP) STP', 'Dichloromethane', 'Nickel PM10 STP',\n",
              "       'Formaldehyde', 'Cadmium (TSP) STP', 'Manganese PM10 STP',\n",
              "       'Ethylene dichloride', 'Acetaldehyde', 'Beryllium PM10 STP',\n",
              "       'Beryllium (TSP) STP', 'Acrolein - Verified', 'Nickel (TSP) STP',\n",
              "       'Arsenic PM10 STP', 'Chromium PM10 STP', 'Chromium VI (TSP) STP',\n",
              "       'Mercury PM10 STP', 'Chromium VI (TSP) LC', 'Beryllium PM2.5 LC'],\n",
              "      dtype=object)"
            ]
          },
          "metadata": {
            "tags": []
          },
          "execution_count": 7
        }
      ]
    },
    {
      "metadata": {
        "id": "1ZRp_7kN4cq4",
        "colab_type": "code",
        "colab": {}
      },
      "cell_type": "code",
      "source": [
        "# df4['parameter_name']"
      ],
      "execution_count": 0,
      "outputs": []
    },
    {
      "metadata": {
        "id": "g3-wuC6ihLNc",
        "colab_type": "code",
        "colab": {}
      },
      "cell_type": "code",
      "source": [
        "df4['date_local'] = pd.to_datetime(df4['date_local']).apply(lambda t : t.year)"
      ],
      "execution_count": 0,
      "outputs": []
    },
    {
      "metadata": {
        "id": "GSrypBFLh-WN",
        "colab_type": "code",
        "colab": {}
      },
      "cell_type": "code",
      "source": [
        "# df4['date_local'] = pd.to_numeric(df4['date_local'])"
      ],
      "execution_count": 0,
      "outputs": []
    },
    {
      "metadata": {
        "id": "uXvgO2fYl9X0",
        "colab_type": "code",
        "colab": {}
      },
      "cell_type": "code",
      "source": [
        "df4['date_local']"
      ],
      "execution_count": 0,
      "outputs": []
    },
    {
      "metadata": {
        "id": "X7GfkhTfXF-H",
        "colab_type": "code",
        "colab": {}
      },
      "cell_type": "code",
      "source": [
        "import seaborn as sns"
      ],
      "execution_count": 0,
      "outputs": []
    },
    {
      "metadata": {
        "id": "2sEcReTn8PrV",
        "colab_type": "code",
        "colab": {}
      },
      "cell_type": "code",
      "source": [
        ""
      ],
      "execution_count": 0,
      "outputs": []
    },
    {
      "metadata": {
        "id": "zskoxb7W7idz",
        "colab_type": "code",
        "colab": {}
      },
      "cell_type": "code",
      "source": [
        "def getGraph(pollutant, city_name, state_name):\n",
        "  df5 = df4[ df4[\"parameter_name\"] == pollutant]\n",
        "  df6 = df5[ df5[\"city_name\"] == city_name]\n",
        "  df7 = df6[ df6[\"arithmetic_mean\"] > 0]\n",
        "  df8 = df7[df7[\"state_name\"] == state_name]\n",
        "  sns.set()\n",
        "\n",
        "  g = sns.lmplot(\"date_local\", \"arithmetic_mean\", df8)\n",
        "\n",
        "  g.set_axis_labels(\"Time\", \"Arithmetic Mean of Pollution Type\")\n",
        "  "
      ],
      "execution_count": 0,
      "outputs": []
    },
    {
      "metadata": {
        "id": "EJvTBzgh7ud_",
        "colab_type": "code",
        "colab": {
          "base_uri": "https://localhost:8080/",
          "height": 365
        },
        "outputId": "fd4f2387-308e-4ae1-e99c-78597d77f189"
      },
      "cell_type": "code",
      "source": [
        "getGraph(\"Benzene\", \"Philadelphia\", \"Pennsylvania\")"
      ],
      "execution_count": 12,
      "outputs": [
        {
          "output_type": "display_data",
          "data": {
            "image/png": "[encoded data removed]",
            "text/plain": [
              "<Figure size 360x360 with 1 Axes>"
            ]
          },
          "metadata": {
            "tags": []
          }
        }
      ]
    },
    {
      "metadata": {
        "id": "fC5qVDyXBrhB",
        "colab_type": "code",
        "colab": {}
      },
      "cell_type": "code",
      "source": [
        ""
      ],
      "execution_count": 0,
      "outputs": []
    },
    {
      "metadata": {
        "id": "Fo3xe5Nau_mb",
        "colab_type": "code",
        "colab": {
          "base_uri": "https://localhost:8080/",
          "height": 198
        },
        "outputId": "4292ffde-97a6-4b04-928f-02bb94dfd01d"
      },
      "cell_type": "code",
      "source": [
        "df5 = df4[ df4[\"parameter_name\"] == pollutant]\n",
        "df6 = df5[ df5[\"city_name\"] == city_name]\n",
        "df7 = df6[ df6[\"arithmetic_mean\"] > 0]"
      ],
      "execution_count": 80,
      "outputs": [
        {
          "output_type": "error",
          "ename": "NameError",
          "evalue": "ignored",
          "traceback": [
            "\u001b[0;31m---------------------------------------------------------------------------\u001b[0m",
            "\u001b[0;31mNameError\u001b[0m                                 Traceback (most recent call last)",
            "\u001b[0;32m<ipython-input-80-9169e5738433>\u001b[0m in \u001b[0;36m<module>\u001b[0;34m()\u001b[0m\n\u001b[0;32m----> 1\u001b[0;31m \u001b[0mdf5\u001b[0m \u001b[0;34m=\u001b[0m \u001b[0mdf4\u001b[0m\u001b[0;34m[\u001b[0m \u001b[0mdf4\u001b[0m\u001b[0;34m[\u001b[0m\u001b[0;34m\"parameter_name\"\u001b[0m\u001b[0;34m]\u001b[0m \u001b[0;34m==\u001b[0m \u001b[0mpollutant\u001b[0m\u001b[0;34m]\u001b[0m\u001b[0;34m\u001b[0m\u001b[0;34m\u001b[0m\u001b[0m\n\u001b[0m\u001b[1;32m      2\u001b[0m \u001b[0mdf6\u001b[0m \u001b[0;34m=\u001b[0m \u001b[0mdf5\u001b[0m\u001b[0;34m[\u001b[0m \u001b[0mdf5\u001b[0m\u001b[0;34m[\u001b[0m\u001b[0;34m\"city_name\"\u001b[0m\u001b[0;34m]\u001b[0m \u001b[0;34m==\u001b[0m \u001b[0mcity_name\u001b[0m\u001b[0;34m]\u001b[0m\u001b[0;34m\u001b[0m\u001b[0;34m\u001b[0m\u001b[0m\n\u001b[1;32m      3\u001b[0m \u001b[0mdf7\u001b[0m \u001b[0;34m=\u001b[0m \u001b[0mdf6\u001b[0m\u001b[0;34m[\u001b[0m \u001b[0mdf6\u001b[0m\u001b[0;34m[\u001b[0m\u001b[0;34m\"arithmetic_mean\"\u001b[0m\u001b[0;34m]\u001b[0m \u001b[0;34m>\u001b[0m \u001b[0;36m0\u001b[0m\u001b[0;34m]\u001b[0m\u001b[0;34m\u001b[0m\u001b[0;34m\u001b[0m\u001b[0m\n",
            "\u001b[0;31mNameError\u001b[0m: name 'pollutant' is not defined"
          ]
        }
      ]
    },
    {
      "metadata": {
        "id": "Vfo77loXXqsW",
        "colab_type": "code",
        "colab": {}
      },
      "cell_type": "code",
      "source": [
        "sns.set()\n",
        "\n",
        "g = sns.lmplot(\"date_local\", \"arithmetic_mean\", df7)\n",
        "\n",
        "\n",
        "g.set_axis_labels(\"Time\", \"Arithmetic Mean of Pollution Type\")"
      ],
      "execution_count": 0,
      "outputs": []
    },
    {
      "metadata": {
        "id": "CQLK-fC4XAZ1",
        "colab_type": "code",
        "colab": {}
      },
      "cell_type": "code",
      "source": [
        "from sklearn.linear_model import LogisticRegression \n",
        "from sklearn.model_selection import train_test_split\n"
      ],
      "execution_count": 0,
      "outputs": []
    },
    {
      "metadata": {
        "id": "d5JoNjysD9BS",
        "colab_type": "code",
        "colab": {}
      },
      "cell_type": "code",
      "source": [
        "\n",
        "for i in df4['parameter_name'].unique() :\n",
        "    df4[i] = (df4['parameter_name'] == i) * 1\n",
        "\n",
        "df4.head()\n",
        "\n",
        "    \n"
      ],
      "execution_count": 0,
      "outputs": []
    },
    {
      "metadata": {
        "id": "UbeK1ub8CYsP",
        "colab_type": "code",
        "colab": {}
      },
      "cell_type": "code",
      "source": [
        "learndf = df4['latitude', 'longitude','date_local',\n",
        "       'units_of_measure', 'arithmetic_mean', 'state_name', 'city_name'] \n",
        "      "
      ],
      "execution_count": 0,
      "outputs": []
    }
  ]
}